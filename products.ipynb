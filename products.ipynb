
import pandas as pd
import numpy as np

# Data in the form of a list of tuples (Added a new 'quantity' field)
data = [
    (1, 'Matte Lipstick', 'Maybelline', 499.99, 'Makeup', 'Nykaa', 120),
    (2, 'Hydrating Face Cream', 'Neutrogena', 899.99, 'Skincare', 'Purple', 90),
    (3, 'Sulfate-Free Shampoo', 'LOreal', 399.99, 'Haircare', 'Tira', 150),
    (4, 'Long-Wear Foundation', 'MAC', 2499.99, 'Makeup', 'Nykaa', 50),
    (5, 'Anti-Aging Serum', 'Olay', 1299.99, 'Skincare', 'Purple', 80),
    (6, 'Argan Oil Conditioner', 'Moroccanoil', 849.99, 'Haircare', 'Tira', 70),
    (7, 'Eau de Parfum', 'Chanel', 4999.99, 'Fragrance', 'Nykaa', 30),
    (8, 'Sun Protection Lotion', 'Lotus Herbals', 699.99, 'Skincare', 'Purple', 110),
    (9, 'Hair Growth Oil', 'Mamaearth', 499.99, 'Haircare', 'Tira', 140),
    (10, 'Nail Polish', 'Essie', 299.99, 'Makeup', 'Nykaa', 200),
    (11, 'Facial Cleansing Foam', 'Clinique', 899.99, 'Skincare', 'Purple', 85),
    (12, 'Curl Defining Cream', 'Curlsmith', 1499.99, 'Haircare', 'Tira', 60),
    (13, 'Lip Balm', 'Burts Bees', 299.99, 'Makeup', 'Nykaa', 190),
    (14, 'Detoxifying Face Mask', 'The Face Shop', 799.99, 'Skincare', 'Purple', 100),
    (15, 'Volumizing Mousse', 'TRESemmé', 499.99, 'Haircare', 'Tira', 120),
    (16, 'Eyebrow Pencil', 'Benefit', 1200.00, 'Makeup', 'Nykaa', 75),
    (17, 'Whitening Toothpaste', 'Colgate', 199.99, 'Oral Care', 'Purple', 220),
    (18, 'Facial Scrub', 'St. Ives', 399.99, 'Skincare', 'Tira', 130),
    (19, 'Setting Spray', 'Urban Decay', 1800.00, 'Makeup', 'Nykaa', 40),
    (20, 'Moisturizing Hand Cream', 'Nivea', 399.99, 'Skincare', 'Purple', 150)
]

# Create DataFrame
df = pd.DataFrame(data, columns=['product_id', 'product_name', 'brand', 'price', 'category', 'platform', 'quantity'])

# Calculate total revenue (price * quantity)
df['total_revenue'] = df['price'] * df['quantity']

# View DataFrame with total revenue column
print(df)

# Total revenue for all products
total_revenue = df['total_revenue'].sum()
print(f"Total Revenue: {total_revenue}")

# Top expensive products
top_expensive = df.sort_values(by='price', ascending=False).head(5)
print(top_expensive)

# Count of products per category
category_count = df['category'].value_counts()
print(category_count)

# Average price per category
avg_price_category = df.groupby('category')['price'].mean()
print(avg_price_category)

# Platform distribution
platform_distribution = df['platform'].value_counts()
print(platform_distribution)

# Filter products within price range
filtered_products = df[(df['price'] >= 500) & (df['price'] <= 1500)]
print(filtered_products)

# Top brands in each category based on price
top_brands = df.loc[df.groupby('category')['price'].idxmax()]
print(top_brands)

# Add a new column with discounted price (luxury category discounted by 10%)
df['discounted_price'] = np.where(df['category'] == 'Fragrance', df['price'] * 0.9, df['price'])
print(df[['product_name', 'price', 'discounted_price']])
